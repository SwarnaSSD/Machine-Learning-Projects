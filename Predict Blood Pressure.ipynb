{
 "cells": [
  {
   "cell_type": "code",
   "execution_count": 9,
   "metadata": {},
   "outputs": [],
   "source": [
    "import numpy as np\n",
    "import pandas as pd"
   ]
  },
  {
   "cell_type": "code",
   "execution_count": 10,
   "metadata": {},
   "outputs": [],
   "source": [
    "import matplotlib.pyplot as plt"
   ]
  },
  {
   "cell_type": "code",
   "execution_count": 11,
   "metadata": {},
   "outputs": [],
   "source": [
    "from sklearn.linear_model import LinearRegression\n",
    "regress = LinearRegression()"
   ]
  },
  {
   "cell_type": "code",
   "execution_count": 12,
   "metadata": {},
   "outputs": [],
   "source": [
    "data = pd.read_excel(\"DataBase Age Vs B.P.xlsx\")"
   ]
  },
  {
   "cell_type": "code",
   "execution_count": 13,
   "metadata": {},
   "outputs": [
    {
     "data": {
      "text/plain": [
       "LinearRegression(copy_X=True, fit_intercept=True, n_jobs=None,\n",
       "         normalize=False)"
      ]
     },
     "execution_count": 13,
     "metadata": {},
     "output_type": "execute_result"
    }
   ],
   "source": [
    "x=np.array(data['AGE'])\n",
    "y=np.array(data['Blood pressur(B.P)'])\n",
    "x=x.reshape(-1,1)\n",
    "y=y.reshape(-1,1)\n",
    "regress.fit(x,y)"
   ]
  },
  {
   "cell_type": "code",
   "execution_count": 14,
   "metadata": {},
   "outputs": [
    {
     "data": {
      "text/plain": [
       "array([[39],\n",
       "       [47],\n",
       "       [45],\n",
       "       [47],\n",
       "       [65],\n",
       "       [46],\n",
       "       [67],\n",
       "       [42],\n",
       "       [67],\n",
       "       [56],\n",
       "       [64],\n",
       "       [56],\n",
       "       [59],\n",
       "       [34],\n",
       "       [42],\n",
       "       [48],\n",
       "       [45],\n",
       "       [17],\n",
       "       [20],\n",
       "       [19],\n",
       "       [36],\n",
       "       [50],\n",
       "       [39],\n",
       "       [21],\n",
       "       [44],\n",
       "       [53],\n",
       "       [63],\n",
       "       [29],\n",
       "       [25],\n",
       "       [69]], dtype=int64)"
      ]
     },
     "execution_count": 14,
     "metadata": {},
     "output_type": "execute_result"
    }
   ],
   "source": [
    "x"
   ]
  },
  {
   "cell_type": "code",
   "execution_count": 15,
   "metadata": {},
   "outputs": [
    {
     "data": {
      "text/plain": [
       "array([[144],\n",
       "       [220],\n",
       "       [138],\n",
       "       [145],\n",
       "       [162],\n",
       "       [142],\n",
       "       [170],\n",
       "       [124],\n",
       "       [158],\n",
       "       [154],\n",
       "       [162],\n",
       "       [150],\n",
       "       [140],\n",
       "       [110],\n",
       "       [128],\n",
       "       [130],\n",
       "       [135],\n",
       "       [114],\n",
       "       [116],\n",
       "       [124],\n",
       "       [136],\n",
       "       [142],\n",
       "       [120],\n",
       "       [120],\n",
       "       [160],\n",
       "       [158],\n",
       "       [144],\n",
       "       [130],\n",
       "       [125],\n",
       "       [175]], dtype=int64)"
      ]
     },
     "execution_count": 15,
     "metadata": {},
     "output_type": "execute_result"
    }
   ],
   "source": [
    "y"
   ]
  },
  {
   "cell_type": "code",
   "execution_count": 17,
   "metadata": {},
   "outputs": [
    {
     "name": "stdout",
     "output_type": "stream",
     "text": [
      "Enter Age :15\n"
     ]
    },
    {
     "data": {
      "text/plain": [
       "array([[113.27777341]])"
      ]
     },
     "execution_count": 17,
     "metadata": {},
     "output_type": "execute_result"
    }
   ],
   "source": [
    "x=int(input(\"Enter Age :\"))\n",
    "x=np.array(x).reshape(-1,1)\n",
    "regress.predict(x)"
   ]
  },
  {
   "cell_type": "code",
   "execution_count": null,
   "metadata": {},
   "outputs": [],
   "source": []
  }
 ],
 "metadata": {
  "kernelspec": {
   "display_name": "Python 3",
   "language": "python",
   "name": "python3"
  },
  "language_info": {
   "codemirror_mode": {
    "name": "ipython",
    "version": 3
   },
   "file_extension": ".py",
   "mimetype": "text/x-python",
   "name": "python",
   "nbconvert_exporter": "python",
   "pygments_lexer": "ipython3",
   "version": "3.7.1"
  }
 },
 "nbformat": 4,
 "nbformat_minor": 2
}
